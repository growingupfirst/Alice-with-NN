{
 "cells": [
  {
   "cell_type": "code",
   "execution_count": 4,
   "id": "93e23778-e312-4c67-bcb0-52c8010eb857",
   "metadata": {},
   "outputs": [],
   "source": [
    "import cv2\n",
    "import time\n",
    "#Делаем фото для разных лейблов\n",
    "camera = cv2.VideoCapture(0)\n",
    "for i in range(50):\n",
    "    return_value, image = camera.read()\n",
    "    cv2.imwrite(f'Faces/Empty/{150+i}.png', image)\n",
    "    time.sleep(1)\n",
    "del(camera)"
   ]
  },
  {
   "cell_type": "code",
   "execution_count": null,
   "id": "ead5b9a8-505b-4293-9b68-d507eb9f1709",
   "metadata": {},
   "outputs": [],
   "source": []
  }
 ],
 "metadata": {
  "kernelspec": {
   "display_name": "Python 3",
   "language": "python",
   "name": "python3"
  },
  "language_info": {
   "codemirror_mode": {
    "name": "ipython",
    "version": 3
   },
   "file_extension": ".py",
   "mimetype": "text/x-python",
   "name": "python",
   "nbconvert_exporter": "python",
   "pygments_lexer": "ipython3",
   "version": "3.10.1"
  },
  "vscode": {
   "interpreter": {
    "hash": "905d43561ac1665169cf5ed8e3132a294a102fd702471e0bbd121ed83ef27511"
   }
  }
 },
 "nbformat": 4,
 "nbformat_minor": 5
}
