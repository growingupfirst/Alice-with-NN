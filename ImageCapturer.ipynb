{
 "cells": [
  {
   "cell_type": "code",
   "execution_count": 2,
   "id": "a352b3d5-6c38-4a7c-b172-f46d2f1442a7",
   "metadata": {},
   "outputs": [],
   "source": [
    "import cv2"
   ]
  },
  {
   "cell_type": "code",
   "execution_count": 5,
   "id": "082a0384-63dc-40ac-81c6-f11fd036860a",
   "metadata": {},
   "outputs": [],
   "source": [
    "import cv2\n",
    "#Делаем фото после включения компьютера\n",
    "camera = cv2.VideoCapture(0)\n",
    "return_value, image = camera.read()\n",
    "cv2.imwrite('opencv.png', image)\n",
    "del(camera)"
   ]
  },
  {
   "cell_type": "code",
   "execution_count": 4,
   "id": "539428b4-e4fb-4d76-8de3-164c1c08b341",
   "metadata": {},
   "outputs": [],
   "source": [
    "del(camera)"
   ]
  },
  {
   "cell_type": "code",
   "execution_count": null,
   "id": "7d0df3db-45bf-48dc-976f-4a85ee1dc974",
   "metadata": {},
   "outputs": [],
   "source": []
  }
 ],
 "metadata": {
  "kernelspec": {
   "display_name": "Python 3",
   "language": "python",
   "name": "python3"
  },
  "language_info": {
   "codemirror_mode": {
    "name": "ipython",
    "version": 3
   },
   "file_extension": ".py",
   "mimetype": "text/x-python",
   "name": "python",
   "nbconvert_exporter": "python",
   "pygments_lexer": "ipython3",
   "version": "3.10.1"
  },
  "vscode": {
   "interpreter": {
    "hash": "905d43561ac1665169cf5ed8e3132a294a102fd702471e0bbd121ed83ef27511"
   }
  }
 },
 "nbformat": 4,
 "nbformat_minor": 5
}
